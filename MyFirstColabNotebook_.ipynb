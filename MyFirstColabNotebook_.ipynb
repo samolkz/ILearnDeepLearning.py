{
  "nbformat": 4,
  "nbformat_minor": 0,
  "metadata": {
    "colab": {
      "name": "MyFirstColabNotebook .ipynb",
      "provenance": [],
      "collapsed_sections": [],
      "authorship_tag": "ABX9TyNlbl8d1/kkqqRaatxuQrwa",
      "include_colab_link": true
    },
    "kernelspec": {
      "name": "python3",
      "display_name": "Python 3"
    }
  },
  "cells": [
    {
      "cell_type": "markdown",
      "metadata": {
        "id": "view-in-github",
        "colab_type": "text"
      },
      "source": [
        "<a href=\"https://colab.research.google.com/github/samolkz/ILearnDeepLearning.py/blob/master/MyFirstColabNotebook_.ipynb\" target=\"_parent\"><img src=\"https://colab.research.google.com/assets/colab-badge.svg\" alt=\"Open In Colab\"/></a>"
      ]
    },
    {
      "cell_type": "code",
      "metadata": {
        "colab": {
          "base_uri": "https://localhost:8080/"
        },
        "id": "fKkKHVt3lNsC",
        "outputId": "581aaff3-ef53-495c-c2a9-ab0cef8d491a"
      },
      "source": [
        "import time\r\n",
        "print(time.ctime())"
      ],
      "execution_count": 1,
      "outputs": [
        {
          "output_type": "stream",
          "text": [
            "Tue Mar  2 06:21:13 2021\n"
          ],
          "name": "stdout"
        }
      ]
    },
    {
      "cell_type": "code",
      "metadata": {
        "colab": {
          "base_uri": "https://localhost:8080/"
        },
        "id": "Rv-78naElhqb",
        "outputId": "6bc559b1-4838-4148-faaa-d8024e97ba71"
      },
      "source": [
        "time.sleep(5)\r\n",
        "print (time.ctime())"
      ],
      "execution_count": 2,
      "outputs": [
        {
          "output_type": "stream",
          "text": [
            "Tue Mar  2 06:21:18 2021\n"
          ],
          "name": "stdout"
        }
      ]
    },
    {
      "cell_type": "markdown",
      "metadata": {
        "id": "UMeQr7ism7Hj"
      },
      "source": [
        "This is **bold**.\r\n",
        "This is *italic*.\r\n",
        "This is ~strikethrough~."
      ]
    },
    {
      "cell_type": "markdown",
      "metadata": {
        "id": "ZJnPhc2hnGRS"
      },
      "source": [
        "$\\sqrt{3x-1}+(1+x)^2$"
      ]
    },
    {
      "cell_type": "markdown",
      "metadata": {
        "id": "fyCQbKCBnRrx"
      },
      "source": [
        "$e^x = \\sum_{i = 0}^\\infty \\frac{1}{i!}x^i$"
      ]
    },
    {
      "cell_type": "markdown",
      "metadata": {
        "id": "JziLjOWknY3J"
      },
      "source": [
        "Constraints are\r\n",
        "   - $3x_1 + 6x_2 + x_3 =< 28$\r\n",
        "   - $7x_1 + 3x_2 + 2x_3 =< 37$\r\n",
        "   - $4x_1 + 5x_2 + 2x_3 =< 19$\r\n",
        "   - $x_1,x_2,x_3 >=0 $\r\n",
        "\r\n",
        "The trial vector is calculated as follows:\r\n",
        "- $u_i(t) = x_i(t) + \\beta(\\hat{x}(t) − x_i(t)) + \\beta \\sum_{k = 1}^{n_v}(x_{i1,k}(t) − x_{i2,k}(t))$\r\n",
        "$f(x_1, x_2) = 20 + e - 20exp(-0.2 \\sqrt {\\frac {1}{n} (x_1^2 + x_2^2)}) - exp (\\frac {1}{n}(cos(2\\pi x_1) + cos(2\\pi x_2))$\r\n",
        "\r\n",
        "$x ∈ [-5, 5]$\r\n",
        ">$A_{m,n} =\r\n",
        "   \\begin{pmatrix}\r\n",
        "   a_{1,1} > a_{1,2} > \\cdots > a_{1,n} \\\\\r\n",
        "   a_{2,1} > a_{2,2} > \\cdots > a_{2,n} \\\\\r\n",
        "   \\vdots > \\vdots > \\ddots > \\vdots \\\\\r\n",
        "   a_{m,1} > a_{m,2} > \\cdots > a_{m,n}\r\n",
        "   \\end{pmatrix}$"
      ]
    },
    {
      "cell_type": "code",
      "metadata": {
        "colab": {
          "base_uri": "https://localhost:8080/"
        },
        "id": "H-xc0UDVltwq",
        "outputId": "060adc6d-78f5-4b3b-bcc9-fef02646c38c"
      },
      "source": [
        "message = 'A Great Tutorial on Colab by Tutorialspoint!'\r\n",
        "greeting = !echo -e '$message\\n$message'\r\n",
        "greeting"
      ],
      "execution_count": 3,
      "outputs": [
        {
          "output_type": "execute_result",
          "data": {
            "text/plain": [
              "['A Great Tutorial on Colab by Tutorialspoint!',\n",
              " 'A Great Tutorial on Colab by Tutorialspoint!']"
            ]
          },
          "metadata": {
            "tags": []
          },
          "execution_count": 3
        }
      ]
    },
    {
      "cell_type": "code",
      "metadata": {
        "id": "_L8tMEYhlzUc"
      },
      "source": [
        ""
      ],
      "execution_count": 2,
      "outputs": []
    },
    {
      "cell_type": "code",
      "metadata": {
        "id": "Uo9SJz_2lzeM"
      },
      "source": [
        ""
      ],
      "execution_count": 2,
      "outputs": []
    }
  ]
}